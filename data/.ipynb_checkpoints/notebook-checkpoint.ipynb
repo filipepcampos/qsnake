{
 "cells": [
  {
   "cell_type": "code",
   "execution_count": 2,
   "metadata": {},
   "outputs": [
    {
     "name": "stdout",
     "output_type": "stream",
     "text": [
      "data1 average: 37.8024\n",
      "data2 average: 28.4874\n",
      "data3 average: 20.4303\n",
      "data4 average: 26.9491\n",
      "data5 average: 8.7166\n",
      "data6 average: 50.0794\n",
      "data7 average: 24.269\n",
      "data8 average: 29.9672\n"
     ]
    }
   ],
   "source": [
    "import numpy as np\n",
    "data_size = 8\n",
    "for i in range(data_size):\n",
    "    performance = np.load(f\"./data{i+1}/performance.npy\")\n",
    "    print(f\"data{i+1} average: {np.average(performance)}\")"
   ]
  }
 ],
 "metadata": {
  "kernelspec": {
   "display_name": "Python 3",
   "language": "python",
   "name": "python3"
  },
  "language_info": {
   "codemirror_mode": {
    "name": "ipython",
    "version": 3
   },
   "file_extension": ".py",
   "mimetype": "text/x-python",
   "name": "python",
   "nbconvert_exporter": "python",
   "pygments_lexer": "ipython3",
   "version": "3.7.3"
  }
 },
 "nbformat": 4,
 "nbformat_minor": 4
}
